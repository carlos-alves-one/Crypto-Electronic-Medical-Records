{
  "nbformat": 4,
  "nbformat_minor": 0,
  "metadata": {
    "colab": {
      "provenance": [],
      "include_colab_link": true
    },
    "kernelspec": {
      "name": "python3",
      "display_name": "Python 3"
    },
    "language_info": {
      "name": "python"
    }
  },
  "cells": [
    {
      "cell_type": "markdown",
      "metadata": {
        "id": "view-in-github",
        "colab_type": "text"
      },
      "source": [
        "<a href=\"https://colab.research.google.com/github/carlos-alves-one/-Crypto-Electronic-Medical-Records/blob/main/crypto_code.ipynb\" target=\"_parent\"><img src=\"https://colab.research.google.com/assets/colab-badge.svg\" alt=\"Open In Colab\"/></a>"
      ]
    },
    {
      "cell_type": "markdown",
      "source": [
        "### Goldsmiths University of London\n",
        "### MSc. Data Science and Artificial Intelligence\n",
        "### Module: Blockchain Programming\n",
        "### Author: Carlos Manuel De Oliveira Alves\n",
        "### Student: cdeol003\n",
        "### Programming Assignment"
      ],
      "metadata": {
        "id": "CbzwjXx0Wkni"
      }
    },
    {
      "cell_type": "markdown",
      "source": [
        "## Import Cryptography Libraries"
      ],
      "metadata": {
        "id": "ItzXMJXkeSHW"
      }
    },
    {
      "cell_type": "code",
      "source": [
        "# Import the 'hashes' module from the cryptography library's hazmat primitives, used for cryptographic hashing\n",
        "from cryptography.hazmat.primitives import hashes\n",
        "\n",
        "# Import 'Encoding', 'PublicFormat', and 'load_der_public_key' from the serialization module for encoding formats,\n",
        "# public key formats, and loading DER-encoded public keys, respectively\n",
        "from cryptography.hazmat.primitives.serialization import Encoding, PublicFormat, load_der_public_key\n",
        "\n",
        "# Import the 'ec' (Elliptic Curve cryptography) and 'utils' modules from the asymmetric part of the hazmat primitives\n",
        "# for performing operations with elliptic curves and various utility functions\n",
        "from cryptography.hazmat.primitives.asymmetric import ec, utils\n"
      ],
      "metadata": {
        "id": "bkybeamPeUUe"
      },
      "execution_count": 43,
      "outputs": []
    },
    {
      "cell_type": "markdown",
      "source": [
        "# Part 1: Records and Verification\n",
        "\n",
        "The objective of the first phase of this project is to establish a framework for Electronic Medical Records (EMR) that leverages cryptographic techniques, marking a significant leap forward in creating secure digital infrastructures, especially within the healthcare industry. This phase delves into four key areas: the construction of classes, the application of cryptography, the management of errors and validations, and the formulation of testing protocols. This effort’s foundation is the meticulous design of classes to ensure that the EMR system is equipped with all the essential features and functions for effective operation. Employing cryptographic algorithms, primarily via the pyca/cryptography library, is pivotal for protecting medical records from unauthorized access and modifications. Implementing robust error handling and validation processes is indispensable for detecting and addressing discrepancies such as invalid signatures or tampered records. Furthermore, developing detailed testing strategies is crucial for confirming the system’s functionality and security safeguards, mitigating potential risks, and upholding the system’s integrity. By focusing on these critical aspects, the development of EMR systems significantly enhances the protection of patient data, driving the healthcare sector toward a more secure and streamlined digital era."
      ],
      "metadata": {
        "id": "bi-7iIaGoKAC"
      }
    },
    {
      "cell_type": "markdown",
      "source": [
        "## EMR Class\n",
        "\n",
        "The EMR class embodies a comprehensive system for Electronic Medical Records, integrating essential functionalities for initialising records and assuring their integrity and authenticity. It is designed to perform critical operations such as hash validation, prescription validation, nonce verification, transaction ID (txid) calculation, and digital signature verification. This class encapsulates the logic for creating, verifying, and manipulating electronic medical records. It includes methods for initialising a record, verifying its integrity and authenticity, and computing necessary cryptographic hashes and signatures, ensuring secure and reliable medical data management."
      ],
      "metadata": {
        "id": "zfz1NI2kf7ON"
      }
    },
    {
      "cell_type": "code",
      "source": [
        "class EMR:\n",
        "\n",
        "    # Declare the constructor for this class\n",
        "    def __init__(self, Dr_hash, Patient_hash, Dr_public_key, prescription, nonce, signature, txid):\n",
        "\n",
        "        # Initialize the EMR instance with doctor's and patient's hashes, doctor's public key,\n",
        "        # prescription details, nonce, digital signature, and transaction ID\n",
        "        self.Dr_hash = Dr_hash\n",
        "        self.Patient_hash = Patient_hash\n",
        "        self.Dr_public_key = Dr_public_key\n",
        "        self.prescription = prescription\n",
        "        self.nonce = nonce\n",
        "        self.signature = signature\n",
        "        self.txid = txid\n",
        "\n",
        "    # Declare function to perform several checks to verify the integrity and authenticity of the EMR data\n",
        "    def verify(self, Dr_previous_nonce):\n",
        "\n",
        "        # Check the length of doctor's and patient's hashes\n",
        "        if len(self.Dr_hash) != 20 or len(self.Patient_hash) != 20:\n",
        "            raise Exception(\"Hash is wrong length\")\n",
        "\n",
        "        # Validate the doctor's public key by comparing its hash against the provided doctor's hash\n",
        "        if calculate_sha1_hash(self.Dr_public_key) != self.Dr_hash:\n",
        "            raise Exception(\"Invalid doctor public key\")\n",
        "\n",
        "        # Ensure the prescription text is valid and within the allowed byte size\n",
        "        if not isinstance(self.prescription, str) or len(self.prescription.encode('utf-8')) > 200:\n",
        "            raise Exception(\"Invalid prescription\")\n",
        "\n",
        "        # Check if the nonce is sequentially correct\n",
        "        if self.nonce != Dr_previous_nonce + 1:\n",
        "            raise Exception(\"Invalid nonce\")\n",
        "\n",
        "        # Validate the transaction ID by recalculating it and comparing with the provided value\n",
        "        expected_txid = calculate_txid(self.Dr_hash, self.Patient_hash, self.Dr_public_key, self.prescription, self.nonce, self.signature)\n",
        "        if self.txid != expected_txid:\n",
        "            raise Exception(\"Invalid txid\")\n",
        "\n",
        "        # Verify the digital signature to ensure the data's integrity and authenticity\n",
        "        signature_hash = calculate_signature_hash(self.Patient_hash, self.prescription, self.nonce)\n",
        "        key = load_der_public_key(self.Dr_public_key)\n",
        "        try:\n",
        "            key.verify(self.signature, signature_hash, ec.ECDSA(utils.Prehashed(hashes.SHA256())))\n",
        "        except:\n",
        "            raise Exception(\"Invalid signature\")\n"
      ],
      "metadata": {
        "id": "ERLxjkpnf88B"
      },
      "execution_count": 44,
      "outputs": []
    },
    {
      "cell_type": "markdown",
      "source": [
        "### Supporting Functions"
      ],
      "metadata": {
        "id": "5iPDpwfLgXq2"
      }
    },
    {
      "cell_type": "markdown",
      "source": [
        "> This function calculate_sha1_hash computes the SHA-1 hash of the provided data. SHA-1 generates a 160-bit (20-byte) hash, which is part of various security protocols and systems."
      ],
      "metadata": {
        "id": "Y-fVcCqUg7aF"
      }
    },
    {
      "cell_type": "code",
      "source": [
        "def calculate_sha1_hash(data):\n",
        "    digest = hashes.Hash(hashes.SHA1())\n",
        "    digest.update(data)\n",
        "    return digest.finalize()\n"
      ],
      "metadata": {
        "id": "PvPW4jXZgYfZ"
      },
      "execution_count": 45,
      "outputs": []
    },
    {
      "cell_type": "markdown",
      "source": [
        "> This function calculate_txid generates a transaction ID using SHA-256 by hashing together the doctor's hash, patient's hash, doctor's public key, prescription details, nonce, and digital signature."
      ],
      "metadata": {
        "id": "BoCFrwyGhm_U"
      }
    },
    {
      "cell_type": "code",
      "source": [
        "def calculate_txid(Dr_hash, Patient_hash, Dr_public_key, prescription, nonce, signature):\n",
        "    digest = hashes.Hash(hashes.SHA256())\n",
        "    digest.update(Dr_hash)\n",
        "    digest.update(Patient_hash)\n",
        "    digest.update(Dr_public_key)\n",
        "    digest.update(prescription.encode('utf-8'))\n",
        "    digest.update(nonce.to_bytes(8, byteorder='little', signed=False))\n",
        "    digest.update(signature)\n",
        "    return digest.finalize()\n"
      ],
      "metadata": {
        "id": "Dsmt99z5hzHF"
      },
      "execution_count": 46,
      "outputs": []
    },
    {
      "cell_type": "markdown",
      "source": [
        "> This function calculate_signature_hash produces a hash used for signature verification, combining the patient's hash, prescription, and nonce using SHA-256."
      ],
      "metadata": {
        "id": "pW9SmechiPI1"
      }
    },
    {
      "cell_type": "code",
      "source": [
        "def calculate_signature_hash(Patient_hash, prescription, nonce):\n",
        "    digest = hashes.Hash(hashes.SHA256())\n",
        "    digest.update(Patient_hash)\n",
        "    digest.update(prescription.encode('utf-8'))\n",
        "    digest.update(nonce.to_bytes(8, byteorder='little', signed=False))\n",
        "    return digest.finalize()\n"
      ],
      "metadata": {
        "id": "6_oS3MmPiWAi"
      },
      "execution_count": 47,
      "outputs": []
    },
    {
      "cell_type": "markdown",
      "source": [
        "These components together form a secure system for managing and verifying electronic medical records, ensuring that they are authentic, have not been tampered with, and come from a verified source. The verification process involves checking the integrity of the provided information, such as hash lengths, the correctness of the nonce, the validity of the transaction ID, and the authenticity of the signature using an elliptic curve digital signature algorithm (ECDSA) with SHA-256 as the hash function."
      ],
      "metadata": {
        "id": "6jqgha8nisSw"
      }
    },
    {
      "cell_type": "markdown",
      "source": [
        "## Create Signed Record Function\n",
        "\n",
        "This function is designed to generate a signed EMR (Electronic Medical Record) record, leveraging the doctor's private key alongside the patient's public key hash, the prescription, and a nonce as inputs. It meticulously prepares the necessary data, computes the signature, and assembles the record. The process includes calculating the transaction ID (txid) and the signature for the new record, ensuring the integrity and authenticity of the medical record through these cryptographic measures."
      ],
      "metadata": {
        "id": "z83PH1DHX5P9"
      }
    },
    {
      "cell_type": "code",
      "source": [
        "def create_signed_record(Dr_private_key, patient_hash, prescription, nonce):\n",
        "\n",
        "    # Convert the doctor's public key to DER format\n",
        "    Dr_public_key = Dr_private_key.public_key().public_bytes(encoding=Encoding.DER, format=PublicFormat.SubjectPublicKeyInfo)\n",
        "\n",
        "    # Calculate the doctor's public key hash\n",
        "    Dr_hash = calculate_sha1_hash(Dr_public_key)\n",
        "\n",
        "    # Prepare the data for signing\n",
        "    signature_hash = calculate_signature_hash(patient_hash, prescription, nonce)\n",
        "\n",
        "    # Sign the data\n",
        "    signature = Dr_private_key.sign(signature_hash, ec.ECDSA(utils.Prehashed(hashes.SHA256())))\n",
        "\n",
        "    # Calculate the transaction ID\n",
        "    txid = calculate_txid(Dr_hash, patient_hash, Dr_public_key, prescription, nonce, signature)\n",
        "\n",
        "    # Create and return the EMR record\n",
        "    return EMR(Dr_hash, patient_hash, Dr_public_key, prescription, nonce, signature, txid)\n"
      ],
      "metadata": {
        "id": "iyw-zQiTYCGm"
      },
      "execution_count": 48,
      "outputs": []
    },
    {
      "cell_type": "markdown",
      "source": [
        "## Test Cases"
      ],
      "metadata": {
        "id": "32KkE-Xuciql"
      }
    },
    {
      "cell_type": "code",
      "source": [
        "# Import the unittest module for creating and running unit tests in Python\n",
        "import unittest\n"
      ],
      "metadata": {
        "id": "FEzjnre2cjcg"
      },
      "execution_count": 49,
      "outputs": []
    },
    {
      "cell_type": "markdown",
      "source": [
        "This code snippet defines a test suite for the EMR class that verifies the correct behaviour of the class and the function create_signed_record, focusing on the verification logic under various conditions, using Python's unit test framework adapted for execution in an environment that requires a different approach than running tests in a standard Python environment due to the interactive nature of notebooks."
      ],
      "metadata": {
        "id": "1x6xzlVKiQJI"
      }
    },
    {
      "cell_type": "code",
      "source": [
        "class TestEMR(unittest.TestCase):\n",
        "\n",
        "    # Define a setup method to initialize variables before each test case runs\n",
        "    def setUp(self):\n",
        "\n",
        "        # Generate a doctor's private key using the SECP256K1 elliptic curve\n",
        "        self.Dr_private_key = ec.generate_private_key(ec.SECP256K1())\n",
        "\n",
        "        # Calculate and store a SHA-1 hash of a simulated patient's public key\n",
        "        self.patient_hash = calculate_sha1_hash(b\"Patient's Public Key\")\n",
        "\n",
        "        # Define a sample prescription text for testing\n",
        "        self.prescription = \"Medication A: 10mg\"\n",
        "\n",
        "        # Initialize a nonce to 1, to be used in the creation of a test EMR record\n",
        "        self.nonce = 1\n",
        "\n",
        "    # Define a test case method for verifying a successfully signed record\n",
        "    def test_record_verification_success(self):\n",
        "\n",
        "        # Create a signed EMR record using the doctor's private key, patient hash, prescription data, and nonce\n",
        "        record = create_signed_record(self.Dr_private_key, self.patient_hash, self.prescription, self.nonce)\n",
        "\n",
        "        # Set the previous nonce value to 0, assuming this is the first transaction record\n",
        "        Dr_previous_nonce = 0\n",
        "\n",
        "        # Attempt to verify the record; set result to True if successful, False if an exception occurs\n",
        "        try:\n",
        "            record.verify(Dr_previous_nonce)\n",
        "            result = True\n",
        "        except Exception as e:\n",
        "            result = False\n",
        "\n",
        "        # Assert that the result is True, indicating the record verification was successful\n",
        "        self.assertTrue(result)\n",
        "\n",
        "    # Define a test case to verify that an altered transaction ID causes record verification to fail\n",
        "    def test_invalid_txid_raises_exception(self):\n",
        "\n",
        "        # Create a signed EMR record with valid parameters\n",
        "        record = create_signed_record(self.Dr_private_key, self.patient_hash, self.prescription, self.nonce)\n",
        "\n",
        "        # Manually set the record's transaction ID (txid) to an invalid value\n",
        "        record.txid = b\"Invalid TXID\"\n",
        "\n",
        "        # Use a context manager to assert that an exception is raised during record verification, indicating failure\n",
        "        with self.assertRaises(Exception):\n",
        "\n",
        "            record.verify(0)  # Attempt to verify the record with a modified txid, expecting it to raise an exception\n",
        "\n",
        "    # Define a test case to ensure that tampering with the signature causes record verification to fail\n",
        "    def test_invalid_signature_raises_exception(self):\n",
        "\n",
        "        # Create a new EMR record with a valid signature initially\n",
        "        record = create_signed_record(self.Dr_private_key, self.patient_hash, self.prescription, self.nonce)\n",
        "\n",
        "        # Manually change the record's signature to an invalid value to simulate tampering\n",
        "        record.signature = b\"Invalid Signature\"\n",
        "\n",
        "        # Use a context manager to assert that an exception is raised, indicating that the record's verification fails\n",
        "        with self.assertRaises(Exception):\n",
        "\n",
        "            record.verify(0)  # Attempt to verify the tampered record, expecting failure due to the invalid signature\n"
      ],
      "metadata": {
        "id": "wUOeyEXMiRGx"
      },
      "execution_count": 50,
      "outputs": []
    },
    {
      "cell_type": "code",
      "source": [
        "# Load all test cases from the TestEMR class into a test suite\n",
        "suite = unittest.TestLoader().loadTestsFromTestCase(TestEMR)\n"
      ],
      "metadata": {
        "id": "Gj9iUI1NmsMJ"
      },
      "execution_count": 51,
      "outputs": []
    },
    {
      "cell_type": "code",
      "source": [
        "# Execute the test suite with a higher verbosity level for detailed output\n",
        "unittest.TextTestRunner(verbosity=2).run(suite)\n"
      ],
      "metadata": {
        "colab": {
          "base_uri": "https://localhost:8080/"
        },
        "id": "cUHPl1zsnHpH",
        "outputId": "de9a26ee-1cff-40b1-db4f-4776183444c2"
      },
      "execution_count": 52,
      "outputs": [
        {
          "output_type": "stream",
          "name": "stderr",
          "text": [
            "test_invalid_signature_raises_exception (__main__.TestEMR) ... ok\n",
            "test_invalid_txid_raises_exception (__main__.TestEMR) ... ok\n",
            "test_record_verification_success (__main__.TestEMR) ... ok\n",
            "\n",
            "----------------------------------------------------------------------\n",
            "Ran 3 tests in 0.020s\n",
            "\n",
            "OK\n"
          ]
        },
        {
          "output_type": "execute_result",
          "data": {
            "text/plain": [
              "<unittest.runner.TextTestResult run=3 errors=0 failures=0>"
            ]
          },
          "metadata": {},
          "execution_count": 52
        }
      ]
    },
    {
      "cell_type": "markdown",
      "source": [
        "# Part 2: Blocks\n",
        "\n",
        "The objective of the second phase of this project is to validate blocks in the context of a blockchain or distributed ledger system.\n",
        "\n",
        "The assignment requires implementing classes and methods to ensure the integrity and validity of blocks within the system. This likely involves verifying the correctness of block data, checking the consistency of hashes, and enforcing any necessary rules or constraints on the blocks.\n",
        "\n",
        "The assignment will leverage the same cryptography library used earlier, explicitly employing the SHA-256 algorithm for computing hashes. Understanding how to use this library and algorithm is crucial for successfully validating blocks.\n",
        "\n",
        "In summary, the goal is to develop robust code that can validate the integrity and adherence to specified rules for blocks within a blockchain-like system, building upon previously acquired knowledge and utilizing provided cryptographic tools."
      ],
      "metadata": {
        "id": "bicV1TZUyZZO"
      }
    },
    {
      "cell_type": "markdown",
      "source": [
        "## UserState Class\n",
        "\n",
        "Implementing the UserState class will be straightforward. It contains a constructor that takes a nonce parameter and stores it. This class helps track the nonce for each user, which is particularly important in blockchain systems to prevent replay attacks and ensure transactions are processed in order.\n",
        "\n",
        "The UserState class has a constructor that takes two parameters:\n",
        "\n",
        "- balance: The balance of the user\n",
        "\n",
        "- nonce: The most recently used nonce of the user\n",
        "\n",
        "Both parameters are exposed as fields of the class."
      ],
      "metadata": {
        "id": "56vW8UNi0K17"
      }
    },
    {
      "cell_type": "code",
      "source": [
        "# Declare the class UserState\n",
        "class UserState:\n",
        "\n",
        "    # Constructor method that initializes a UserState object with balance and nonce parameters\n",
        "    def __init__(self, balance, nonce):\n",
        "\n",
        "        # Assigns the provided balance value of the user\n",
        "        self.balance = balance\n",
        "\n",
        "        # Assigns the most recently used nonce of the user\n",
        "        self.nonce = nonce\n"
      ],
      "metadata": {
        "id": "JfpNVV8800mh"
      },
      "execution_count": 53,
      "outputs": []
    },
    {
      "cell_type": "markdown",
      "source": [
        "## Block Class\n",
        "\n",
        "The Block class has a constructor that takes the following parameters:\n",
        "\n",
        "- previous: The block id of the block before this one in the blockchain (zero for the first block)\n",
        "\n",
        "- height: The number of blocks before this one in the blockchain (0 for the first block)\n",
        "\n",
        "- miner: The public key hash of the user responsible for mining this block\n",
        "\n",
        "- records: A list containing the records within this block\n",
        "\n",
        "- timestamp: An integer representing the number of seconds since 1st January 1970 (Unix Time)\n",
        "\n",
        "- difficulty: An integer indicating the difficulty of the proof of work needed to mine this block\n",
        "\n",
        "- block_id: A 32-byte hash of the block\n",
        "\n",
        "- nonce: An integer between 0 and 2^64 - 1"
      ],
      "metadata": {
        "id": "MJWxdbM61zBJ"
      }
    },
    {
      "cell_type": "code",
      "source": [
        "# Declare the class named Block\n",
        "class Block:\n",
        "\n",
        "    # Constructor method that initializes a Block object with various parameters\n",
        "    def __init__(self, previous, height, miner, records, timestamp, difficulty, block_id, nonce):\n",
        "\n",
        "        # Assigns the provided previous value to the previous attribute of the Block object, representing the hash of the previous block\n",
        "        self.previous = previous\n",
        "\n",
        "        # Assigns the provided height value to the height attribute of the Block object, representing the block's height in the blockchain\n",
        "        self.height = height\n",
        "\n",
        "        # Assigns the provided miner value to the miner attribute of the Block object, representing the miner who mined the block\n",
        "        self.miner = miner\n",
        "\n",
        "        # Assigns the provided records value to the records attribute of the Block object, representing the transactions or data records included in the block\n",
        "        self.records = records\n",
        "\n",
        "        # Assigns the provided timestamp value to the timestamp attribute of the Block object, representing the creation timestamp of the block\n",
        "        self.timestamp = timestamp\n",
        "\n",
        "        # Assigns the provided difficulty value to the difficulty attribute of the Block object, representing the mining difficulty of the block\n",
        "        self.difficulty = difficulty\n",
        "\n",
        "        # Assigns the provided block_id value to the block_id attribute of the Block object, representing a unique identifier for the block\n",
        "        self.block_id = block_id\n",
        "\n",
        "        # Assigns the provided nonce value to the nonce attribute of the Block object, representing the nonce used in the mining process\n",
        "        self.nonce = nonce\n",
        "\n",
        "    # Declare the verify_and_get_changes function\n",
        "    def verify_and_get_changes(self, difficulty, previous_user_states):\n",
        "\n",
        "      # Check if the block difficulty matches the expected difficulty\n",
        "      if self.difficulty != difficulty:\n",
        "          raise Exception(\"Block difficulty does not match expected difficulty\")\n",
        "\n",
        "      # Calculate the expected block ID\n",
        "      expected_block_id = self.calculate_block_id()\n",
        "\n",
        "      # Check if the block ID matches the expected block ID\n",
        "      if self.block_id != expected_block_id:\n",
        "          raise Exception(\"Block ID is incorrect\")\n",
        "\n",
        "      # Check if the number of records in the block exceeds 25\n",
        "      if len(self.records) > 25:\n",
        "          raise Exception(\"Block contains more than 25 records\")\n",
        "\n",
        "      # Check if the miner field is 20 bytes long\n",
        "      if len(self.miner) != 20:\n",
        "          raise Exception(\"Miner field is not 20 bytes long\")\n",
        "\n",
        "      # Calculate the target value based on the difficulty\n",
        "      target = 2 ** 256 // difficulty\n",
        "\n",
        "      # Check if the block ID meets the difficulty requirement\n",
        "      if int.from_bytes(self.block_id, byteorder='big') > target:\n",
        "          raise Exception(\"Block ID does not meet the difficulty requirement\")\n",
        "\n",
        "      # Initialize an empty dictionary to store updated user states\n",
        "      updated_user_states = {}\n",
        "\n",
        "      # Iterate over each record in the block\n",
        "      for record in self.records:\n",
        "\n",
        "          # Get the previous state of the sender\n",
        "          sender_state = previous_user_states[record.sender_hash]\n",
        "\n",
        "          # Verify the record using the sender's previous state\n",
        "          record.verify(sender_state.balance, sender_state.nonce)\n",
        "\n",
        "          # Update the sender's state with new balance and nonce\n",
        "          updated_user_states[record.sender_hash] = UserState(sender_state.balance - record.amount - record.fee, sender_state.nonce + 1)\n",
        "\n",
        "          # Check if the recipient's state doesn't exist in updated_user_states\n",
        "          if record.recipient_hash not in updated_user_states:\n",
        "\n",
        "              # Create a new state for the recipient with the received amount and nonce 0\n",
        "              updated_user_states[record.recipient_hash] = UserState(record.amount, 0)\n",
        "\n",
        "          else:\n",
        "\n",
        "              # Update the recipient's balance by adding the received amount\n",
        "              updated_user_states[record.recipient_hash].balance += record.amount\n",
        "\n",
        "      # Return the updated user states\n",
        "      return updated_user_states\n",
        "\n",
        "    # Declare the function to calculate the block ID\n",
        "    def calculate_block_id(self):\n",
        "\n",
        "      # Create a new SHA-256 hash object\n",
        "      digest = hashes.Hash(hashes.SHA256())\n",
        "\n",
        "      # Update the hash digest with the previous block's hash\n",
        "      digest.update(self.previous)\n",
        "\n",
        "      # Update the hash digest with the miner's information\n",
        "      digest.update(self.miner)\n",
        "\n",
        "      # Iterate over each record in the block\n",
        "      for record in self.records:\n",
        "\n",
        "          # Update the hash digest with the transaction ID of each record\n",
        "          digest.update(record.txid)\n",
        "\n",
        "      # Update the hash digest with the timestamp converted to bytes\n",
        "      digest.update(self.timestamp.to_bytes(8, byteorder='little', signed=False))\n",
        "\n",
        "      # Update the hash digest with the difficulty converted to bytes\n",
        "      digest.update(self.difficulty.to_bytes(16, byteorder='little', signed=False))\n",
        "\n",
        "      # Update the hash digest with the nonce converted to bytes\n",
        "      digest.update(self.nonce.to_bytes(8, byteorder='little', signed=False))\n",
        "\n",
        "      # Finalize the hash digest and return the resulting block ID\n",
        "      return digest.finalize()\n",
        "\n"
      ],
      "metadata": {
        "id": "EkBKLIGM10bt"
      },
      "execution_count": 54,
      "outputs": []
    },
    {
      "cell_type": "markdown",
      "source": [
        "# Part 3: Mining\n"
      ],
      "metadata": {
        "id": "bVAdRFgkJmRr"
      }
    },
    {
      "cell_type": "markdown",
      "source": [
        "## Simple Implementation of Mining\n",
        "\n",
        "Function mine_block takes the specified arguments and produces a block with a valid block_id that meets the proof of work criteria"
      ],
      "metadata": {
        "id": "JVGk6JSSNsqQ"
      }
    },
    {
      "cell_type": "code",
      "source": [
        "# Import the time module for timestamp functionality\n",
        "import time\n",
        "\n",
        "# Define the mine_block function with block parameters\n",
        "def mine_block(previous, height, miner, transactions, timestamp, difficulty):\n",
        "\n",
        "    # Initialize the nonce value to 0\n",
        "    nonce = 0\n",
        "\n",
        "    # Start an infinite loop to find a valid block\n",
        "    while True:\n",
        "\n",
        "        # Create a new Block object with the current block parameters and nonce value\n",
        "        block = Block(previous, height, miner, transactions, timestamp, difficulty, bytes(32), nonce)\n",
        "\n",
        "        # Calculate the block ID using the calculate_block_id method of the Block object\n",
        "        block_id = block.calculate_block_id()\n",
        "\n",
        "        # Calculate the target value based on the difficulty\n",
        "        target = 2 ** 256 // difficulty\n",
        "\n",
        "        # Check if the block ID is less than or equal to the target value\n",
        "        if int.from_bytes(block_id, byteorder='big') <= target:\n",
        "\n",
        "            # If a valid block is found, return a new Block object with the found block ID and nonce value\n",
        "            return Block(previous, height, miner, transactions, timestamp, difficulty, block_id, nonce)\n",
        "\n",
        "        # Increment the nonce value for the next iteration of the loop\n",
        "        nonce += 1\n"
      ],
      "metadata": {
        "id": "PSRcQEr5NySG"
      },
      "execution_count": 55,
      "outputs": []
    },
    {
      "cell_type": "markdown",
      "source": [
        "## Mine a Block"
      ],
      "metadata": {
        "id": "Y5GrnWMqPcBH"
      }
    },
    {
      "cell_type": "code",
      "source": [
        "# Import the time function from the time module\n",
        "from time import time\n",
        "\n",
        "# Example usage of the mine_block function:\n",
        "\n",
        "# Set the previous block ID as a 32-byte value (all zeros)\n",
        "previous_block_id = bytes.fromhex('0000000000000000000000000000000000000000000000000000000000000000')\n",
        "\n",
        "# Set the block height to 0\n",
        "height = 0\n",
        "\n",
        "# Set the miner's address as a 20-byte value\n",
        "miner_address = bytes.fromhex('0123456789abcdef0123456789abcdef01234567')\n",
        "\n",
        "# Initialize an empty list for transactions\n",
        "transactions = []\n",
        "\n",
        "# Get the current timestamp as an integer\n",
        "timestamp = int(time())\n",
        "\n",
        "# Set the mining difficulty\n",
        "difficulty = 100_000\n",
        "\n",
        "# Call the mine_block function to mine a new block\n",
        "start_time = time()\n",
        "mined_block = mine_block(previous_block_id, height, miner_address, transactions, timestamp, difficulty)\n",
        "end_time = time()\n",
        "\n",
        "print(\"\\n-> Mined Block Details..:\")\n",
        "print(\"\\nPrevious block ID.......:\", mined_block.previous.hex())\n",
        "print(\"Height..................:\", mined_block.height)\n",
        "print(\"Miner address...........:\", mined_block.miner.hex())\n",
        "print(\"Number of transactions..:\", len(mined_block.records))\n",
        "print(\"Timestamp...............:\", mined_block.timestamp)\n",
        "print(\"Difficulty..............:\", mined_block.difficulty)\n",
        "print(\"Block ID................:\", mined_block.block_id.hex())\n",
        "print(\"Nonce...................:\", mined_block.nonce)\n",
        "print(f\"Mining time.............: {end_time - start_time:.2f} seconds\")\n"
      ],
      "metadata": {
        "colab": {
          "base_uri": "https://localhost:8080/"
        },
        "id": "oVDYQm6XPg5k",
        "outputId": "0de01a99-4248-40ab-ab34-15dc764947bf"
      },
      "execution_count": 56,
      "outputs": [
        {
          "output_type": "stream",
          "name": "stdout",
          "text": [
            "\n",
            "-> Mined Block Details..:\n",
            "\n",
            "Previous block ID.......: 0000000000000000000000000000000000000000000000000000000000000000\n",
            "Height..................: 0\n",
            "Miner address...........: 0123456789abcdef0123456789abcdef01234567\n",
            "Number of transactions..: 0\n",
            "Timestamp...............: 1711213303\n",
            "Difficulty..............: 100000\n",
            "Block ID................: 000045add63c6a12ba9e386df44c00d4c291d0ac07b3c8a6ff57e30a21232800\n",
            "Nonce...................: 5687\n",
            "Mining time.............: 0.11 seconds\n"
          ]
        }
      ]
    },
    {
      "cell_type": "markdown",
      "source": [
        "## Optimized Implementation of Mining"
      ],
      "metadata": {
        "id": "5Vm1QhSRNVAV"
      }
    },
    {
      "cell_type": "markdown",
      "source": [
        "\n",
        "Implement a parallel block mining function using multiprocessing in Python, which distributes the mining work among multiple processes to find a valid block in a blockchain more efficiently. The primary function, mine_block, spawns worker processes based on the number of available CPU cores, and each process independently tries to find a valid block by incrementing the nonce value and checking if the resulting block ID meets the difficulty target. The worker function, `mine_block_worker`, runs in a loop until a block is found, and shared variables are used for communication and coordination between the processes. By utilizing parallel processing, the code aims to speed up the mining process compared to a single-threaded approach."
      ],
      "metadata": {
        "id": "9UQWnzOmNkLE"
      }
    },
    {
      "cell_type": "code",
      "source": [
        "# Import the multiprocessing module for parallel processing\n",
        "import multiprocessing\n",
        "\n",
        "# Import Value and Array classes for shared variables\n",
        "from multiprocessing import Value, Array\n",
        "\n",
        "# Import c_bool and c_ulong data types for shared variables\n",
        "from ctypes import c_bool, c_ulong\n",
        "\n",
        "# Define the worker function for mining a block\n",
        "def mine_block_worker(previous, height, miner, transactions, timestamp, difficulty, block_found, nonce, block_id):\n",
        "\n",
        "    # Continue mining until a block is found\n",
        "    while not block_found.value:\n",
        "\n",
        "        # Create a new Block object with the current nonce value\n",
        "        block = Block(previous, height, miner, transactions, timestamp, difficulty, bytes(32), nonce.value)\n",
        "\n",
        "        # Calculate the block ID candidate\n",
        "        block_id_candidate = block.calculate_block_id()\n",
        "\n",
        "        # Calculate the target value based on the difficulty\n",
        "        target = 2 ** 256 // difficulty\n",
        "\n",
        "        # Check if the block ID candidate meets the target\n",
        "        if int.from_bytes(block_id_candidate, byteorder='big') <= target:\n",
        "\n",
        "            # Acquire a lock on the block_found variable\n",
        "            with block_found.get_lock():\n",
        "\n",
        "                # Double-check if a block has not been found by another process\n",
        "                if not block_found.value:\n",
        "\n",
        "                    # Set block_found to True to indicate a block has been found\n",
        "                    block_found.value = True\n",
        "\n",
        "                    # Update the block_id array with the found block ID\n",
        "                    block_id[:] = block_id_candidate\n",
        "\n",
        "                    # Exit the worker function\n",
        "                    return\n",
        "\n",
        "        # Acquire a lock on the nonce variable\n",
        "        with nonce.get_lock():\n",
        "\n",
        "            # Increment the nonce value\n",
        "            nonce.value += 1\n",
        "\n",
        "# Define the main function for mining a block\n",
        "def mine_block(previous, height, miner, transactions, timestamp, difficulty):\n",
        "\n",
        "    # Create a shared boolean variable to indicate if a block has been found\n",
        "    block_found = Value(c_bool, False)\n",
        "\n",
        "    # Create a shared unsigned long variable to store the nonce value\n",
        "    nonce = Value(c_ulong, 0)\n",
        "\n",
        "    # Create a shared array to store the found block ID\n",
        "    block_id = Array('B', 32)\n",
        "\n",
        "    # Get the number of available CPU cores\n",
        "    num_processes = multiprocessing.cpu_count()\n",
        "\n",
        "    # Create a list to store the worker processes\n",
        "    processes = []\n",
        "\n",
        "    # Spawn worker processes based on the number of CPU cores\n",
        "    for _ in range(num_processes):\n",
        "\n",
        "        # Create a worker process\n",
        "        process = multiprocessing.Process(target=mine_block_worker, args=(previous, height, miner, transactions, timestamp, difficulty, block_found, nonce, block_id))\n",
        "\n",
        "        # Start the worker process\n",
        "        process.start()\n",
        "\n",
        "         # Add the process to the list of processes\n",
        "        processes.append(process)\n",
        "\n",
        "    # Wait for all worker processes to complete\n",
        "    for process in processes:\n",
        "\n",
        "        # Wait for the process to finish\n",
        "        process.join()\n",
        "\n",
        "    # Create and return a new Block object with the found block ID and nonce value\n",
        "    return Block(previous, height, miner, transactions, timestamp, difficulty, bytes(block_id), nonce.value)\n"
      ],
      "metadata": {
        "id": "8xEIR1YAEp0_"
      },
      "execution_count": 57,
      "outputs": []
    }
  ]
}