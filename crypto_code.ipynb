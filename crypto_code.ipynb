{
  "nbformat": 4,
  "nbformat_minor": 0,
  "metadata": {
    "colab": {
      "provenance": [],
      "toc_visible": true,
      "authorship_tag": "ABX9TyPN5pMkncbYhI1CDOZumOT7",
      "include_colab_link": true
    },
    "kernelspec": {
      "name": "python3",
      "display_name": "Python 3"
    },
    "language_info": {
      "name": "python"
    }
  },
  "cells": [
    {
      "cell_type": "markdown",
      "metadata": {
        "id": "view-in-github",
        "colab_type": "text"
      },
      "source": [
        "<a href=\"https://colab.research.google.com/github/carlos-alves-one/-Crypto-Electronic-Medical-Records/blob/main/crypto_code.ipynb\" target=\"_parent\"><img src=\"https://colab.research.google.com/assets/colab-badge.svg\" alt=\"Open In Colab\"/></a>"
      ]
    },
    {
      "cell_type": "markdown",
      "source": [
        "### Goldsmiths University of London\n",
        "### MSc. Data Science and Artificial Intelligence\n",
        "### Module: Blockchain Programming\n",
        "### Author: Carlos Manuel De Oliveira Alves\n",
        "### Student: cdeol003\n",
        "### Programming Assignment"
      ],
      "metadata": {
        "id": "CbzwjXx0Wkni"
      }
    },
    {
      "cell_type": "markdown",
      "source": [
        "## Import Cryptography Libraries"
      ],
      "metadata": {
        "id": "ItzXMJXkeSHW"
      }
    },
    {
      "cell_type": "code",
      "source": [
        "# Import the 'hashes' module from the cryptography library's hazmat primitives, used for cryptographic hashing\n",
        "from cryptography.hazmat.primitives import hashes\n",
        "\n",
        "# Import 'Encoding', 'PublicFormat', and 'load_der_public_key' from the serialization module for encoding formats,\n",
        "# public key formats, and loading DER-encoded public keys, respectively\n",
        "from cryptography.hazmat.primitives.serialization import Encoding, PublicFormat, load_der_public_key\n",
        "\n",
        "# Import the 'ec' (Elliptic Curve cryptography) and 'utils' modules from the asymmetric part of the hazmat primitives\n",
        "# for performing operations with elliptic curves and various utility functions\n",
        "from cryptography.hazmat.primitives.asymmetric import ec, utils\n"
      ],
      "metadata": {
        "id": "bkybeamPeUUe"
      },
      "execution_count": 1,
      "outputs": []
    },
    {
      "cell_type": "markdown",
      "source": [
        "# The EMR Class\n",
        "\n",
        "The EMR class represents an Electronic Medical Record system with functionalities to initialize records and verify their integrity and authenticity. It includes crucial operations such as hash validation, prescription validation, nonce verification, transaction ID (txid) calculation, and digital signature verification."
      ],
      "metadata": {
        "id": "zfz1NI2kf7ON"
      }
    },
    {
      "cell_type": "code",
      "source": [
        "class EMR:\n",
        "    def __init__(self, Dr_hash, Patient_hash, Dr_public_key, prescription, nonce, signature, txid):\n",
        "\n",
        "        # Initialize the EMR instance with doctor's and patient's hashes, doctor's public key,\n",
        "        # prescription details, nonce, digital signature, and transaction ID\n",
        "        self.Dr_hash = Dr_hash\n",
        "        self.Patient_hash = Patient_hash\n",
        "        self.Dr_public_key = Dr_public_key\n",
        "        self.prescription = prescription\n",
        "        self.nonce = nonce\n",
        "        self.signature = signature\n",
        "        self.txid = txid\n",
        "\n",
        "    def verify(self, Dr_previous_nonce):\n",
        "        # Perform several checks to verify the integrity and authenticity of the EMR data\n",
        "\n",
        "        # Check the length of doctor's and patient's hashes\n",
        "        if len(self.Dr_hash) != 20 or len(self.Patient_hash) != 20:\n",
        "            raise Exception(\"Hash is wrong length\")\n",
        "\n",
        "        # Validate the doctor's public key by comparing its hash against the provided doctor's hash\n",
        "        if calculate_sha1_hash(self.Dr_public_key) != self.Dr_hash:\n",
        "            raise Exception(\"Invalid doctor public key\")\n",
        "\n",
        "        # Ensure the prescription text is valid and within the allowed byte size\n",
        "        if not isinstance(self.prescription, str) or len(self.prescription.encode('utf-8')) > 200:\n",
        "            raise Exception(\"Invalid prescription\")\n",
        "\n",
        "        # Check if the nonce is sequentially correct\n",
        "        if self.nonce != Dr_previous_nonce + 1:\n",
        "            raise Exception(\"Invalid nonce\")\n",
        "\n",
        "        # Validate the transaction ID by recalculating it and comparing with the provided value\n",
        "        expected_txid = calculate_txid(self.Dr_hash, self.Patient_hash, self.Dr_public_key, self.prescription, self.nonce, self.signature)\n",
        "        if self.txid != expected_txid:\n",
        "            raise Exception(\"Invalid txid\")\n",
        "\n",
        "        # Verify the digital signature to ensure the data's integrity and authenticity\n",
        "        signature_hash = calculate_signature_hash(self.Patient_hash, self.prescription, self.nonce)\n",
        "        key = load_der_public_key(self.Dr_public_key)\n",
        "        try:\n",
        "            key.verify(self.signature, signature_hash, ec.ECDSA(utils.Prehashed(hashes.SHA256())))\n",
        "        except:\n",
        "            raise Exception(\"Invalid signature\")\n"
      ],
      "metadata": {
        "id": "ERLxjkpnf88B"
      },
      "execution_count": 2,
      "outputs": []
    },
    {
      "cell_type": "markdown",
      "source": [
        "## Supporting Functions"
      ],
      "metadata": {
        "id": "5iPDpwfLgXq2"
      }
    },
    {
      "cell_type": "markdown",
      "source": [
        "> This function calculate_sha1_hash computes the SHA-1 hash of the provided data. SHA-1 generates a 160-bit (20-byte) hash, which is part of various security protocols and systems."
      ],
      "metadata": {
        "id": "Y-fVcCqUg7aF"
      }
    },
    {
      "cell_type": "code",
      "source": [
        "def calculate_sha1_hash(data):\n",
        "    digest = hashes.Hash(hashes.SHA1())\n",
        "    digest.update(data)\n",
        "    return digest.finalize()\n"
      ],
      "metadata": {
        "id": "PvPW4jXZgYfZ"
      },
      "execution_count": 3,
      "outputs": []
    },
    {
      "cell_type": "markdown",
      "source": [
        "> This function calculate_txid generates a transaction ID using SHA-256 by hashing together the doctor's hash, patient's hash, doctor's public key, prescription details, nonce, and digital signature."
      ],
      "metadata": {
        "id": "BoCFrwyGhm_U"
      }
    },
    {
      "cell_type": "code",
      "source": [
        "def calculate_txid(Dr_hash, Patient_hash, Dr_public_key, prescription, nonce, signature):\n",
        "    digest = hashes.Hash(hashes.SHA256())\n",
        "    digest.update(Dr_hash)\n",
        "    digest.update(Patient_hash)\n",
        "    digest.update(Dr_public_key)\n",
        "    digest.update(prescription.encode('utf-8'))\n",
        "    digest.update(nonce.to_bytes(8, byteorder='little', signed=False))\n",
        "    digest.update(signature)\n",
        "    return digest.finalize()\n"
      ],
      "metadata": {
        "id": "Dsmt99z5hzHF"
      },
      "execution_count": 4,
      "outputs": []
    },
    {
      "cell_type": "markdown",
      "source": [
        "> This function calculate_signature_hash produces a hash used for signature verification, combining the patient's hash, prescription, and nonce using SHA-256."
      ],
      "metadata": {
        "id": "pW9SmechiPI1"
      }
    },
    {
      "cell_type": "code",
      "source": [
        "def calculate_signature_hash(Patient_hash, prescription, nonce):\n",
        "    digest = hashes.Hash(hashes.SHA256())\n",
        "    digest.update(Patient_hash)\n",
        "    digest.update(prescription.encode('utf-8'))\n",
        "    digest.update(nonce.to_bytes(8, byteorder='little', signed=False))\n",
        "    return digest.finalize()\n"
      ],
      "metadata": {
        "id": "6_oS3MmPiWAi"
      },
      "execution_count": 5,
      "outputs": []
    },
    {
      "cell_type": "markdown",
      "source": [
        "These components together form a secure system for managing and verifying electronic medical records, ensuring that they are authentic, have not been tampered with, and come from a verified source. The verification process involves checking the integrity of the provided information, such as hash lengths, the correctness of the nonce, the validity of the transaction ID, and the authenticity of the signature using an elliptic curve digital signature algorithm (ECDSA) with SHA-256 as the hash function."
      ],
      "metadata": {
        "id": "6jqgha8nisSw"
      }
    },
    {
      "cell_type": "markdown",
      "source": [
        "# The Create Signed Record Function\n",
        "\n",
        "This function will create a signed EMR record. It takes the doctor's private key, the patient's public key hash, the prescription, and the nonce as inputs. The function calculates the txid and signature for the new record."
      ],
      "metadata": {
        "id": "z83PH1DHX5P9"
      }
    },
    {
      "cell_type": "code",
      "source": [
        "def create_signed_record(Dr_private_key, patient_hash, prescription, nonce):\n",
        "\n",
        "    # Convert the doctor's public key to DER format\n",
        "    Dr_public_key = Dr_private_key.public_key().public_bytes(encoding=Encoding.DER, format=PublicFormat.SubjectPublicKeyInfo)\n",
        "\n",
        "    # Calculate the doctor's public key hash\n",
        "    Dr_hash = calculate_sha1_hash(Dr_public_key)\n",
        "\n",
        "    # Prepare the data for signing\n",
        "    signature_hash = calculate_signature_hash(patient_hash, prescription, nonce)\n",
        "\n",
        "    # Sign the data\n",
        "    signature = Dr_private_key.sign(signature_hash, ec.ECDSA(utils.Prehashed(hashes.SHA256())))\n",
        "\n",
        "    # Calculate the transaction ID\n",
        "    txid = calculate_txid(Dr_hash, patient_hash, Dr_public_key, prescription, nonce, signature)\n",
        "\n",
        "    # Create and return the EMR record\n",
        "    return EMR(Dr_hash, patient_hash, Dr_public_key, prescription, nonce, signature, txid)\n"
      ],
      "metadata": {
        "id": "iyw-zQiTYCGm"
      },
      "execution_count": 6,
      "outputs": []
    },
    {
      "cell_type": "markdown",
      "source": [
        "This function performs the necessary steps to create a new EMR instance with all fields properly initialized, including the cryptographic signature and transaction ID (txid), ensuring the record's integrity and non-repudiation."
      ],
      "metadata": {
        "id": "GTqQI5owaTlr"
      }
    }
  ]
}