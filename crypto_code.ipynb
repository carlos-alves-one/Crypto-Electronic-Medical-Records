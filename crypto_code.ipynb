{
  "nbformat": 4,
  "nbformat_minor": 0,
  "metadata": {
    "colab": {
      "provenance": [],
      "toc_visible": true,
      "authorship_tag": "ABX9TyObdZmpLzYcbQwieygPW/Wj",
      "include_colab_link": true
    },
    "kernelspec": {
      "name": "python3",
      "display_name": "Python 3"
    },
    "language_info": {
      "name": "python"
    }
  },
  "cells": [
    {
      "cell_type": "markdown",
      "metadata": {
        "id": "view-in-github",
        "colab_type": "text"
      },
      "source": [
        "<a href=\"https://colab.research.google.com/github/carlos-alves-one/-Crypto-Electronic-Medical-Records/blob/main/crypto_code.ipynb\" target=\"_parent\"><img src=\"https://colab.research.google.com/assets/colab-badge.svg\" alt=\"Open In Colab\"/></a>"
      ]
    },
    {
      "cell_type": "markdown",
      "source": [
        "### Goldsmiths University of London\n",
        "### MSc. Data Science and Artificial Intelligence\n",
        "### Module: Blockchain Programming\n",
        "### Author: Carlos Manuel De Oliveira Alves\n",
        "### Student: cdeol003\n",
        "### Programming Assignment"
      ],
      "metadata": {
        "id": "CbzwjXx0Wkni"
      }
    },
    {
      "cell_type": "markdown",
      "source": [
        "## Import Cryptography Libraries"
      ],
      "metadata": {
        "id": "ItzXMJXkeSHW"
      }
    },
    {
      "cell_type": "code",
      "source": [
        "# Import the 'hashes' module from the cryptography library's hazmat primitives, used for cryptographic hashing\n",
        "from cryptography.hazmat.primitives import hashes\n",
        "\n",
        "# Import 'Encoding', 'PublicFormat', and 'load_der_public_key' from the serialization module for encoding formats,\n",
        "# public key formats, and loading DER-encoded public keys, respectively\n",
        "from cryptography.hazmat.primitives.serialization import Encoding, PublicFormat, load_der_public_key\n",
        "\n",
        "# Import the 'ec' (Elliptic Curve cryptography) and 'utils' modules from the asymmetric part of the hazmat primitives\n",
        "# for performing operations with elliptic curves and various utility functions\n",
        "from cryptography.hazmat.primitives.asymmetric import ec, utils\n"
      ],
      "metadata": {
        "id": "bkybeamPeUUe"
      },
      "execution_count": 19,
      "outputs": []
    },
    {
      "cell_type": "markdown",
      "source": [
        "# Part 1: Records and Verification\n",
        "\n",
        "The objective of the first phase of this project is to establish a framework for Electronic Medical Records (EMR) that leverages cryptographic techniques, marking a significant leap forward in creating secure digital infrastructures, especially within the healthcare industry. This phase delves into four key areas: the construction of classes, the application of cryptography, the management of errors and validations, and the formulation of testing protocols. This effort’s foundation is the meticulous design of classes to ensure that the EMR system is equipped with all the essential features and functions for effective operation. Employing cryptographic algorithms, primarily via the pyca/cryptography library, is pivotal for protecting medical records from unauthorized access and modifications. Implementing robust error handling and validation processes is indispensable for detecting and addressing discrepancies such as invalid signatures or tampered records. Furthermore, developing detailed testing strategies is crucial for confirming the system’s functionality and security safeguards, mitigating potential risks, and upholding the system’s integrity. By focusing on these critical aspects, the development of EMR systems significantly enhances the protection of patient data, driving the healthcare sector toward a more secure and streamlined digital era."
      ],
      "metadata": {
        "id": "bi-7iIaGoKAC"
      }
    },
    {
      "cell_type": "markdown",
      "source": [
        "## EMR Class\n",
        "\n",
        "The EMR class embodies a comprehensive system for Electronic Medical Records, integrating essential functionalities for initialising records and assuring their integrity and authenticity. It is designed to perform critical operations such as hash validation, prescription validation, nonce verification, transaction ID (txid) calculation, and digital signature verification. This class encapsulates the logic for creating, verifying, and manipulating electronic medical records. It includes methods for initialising a record, verifying its integrity and authenticity, and computing necessary cryptographic hashes and signatures, ensuring secure and reliable medical data management."
      ],
      "metadata": {
        "id": "zfz1NI2kf7ON"
      }
    },
    {
      "cell_type": "code",
      "source": [
        "class EMR:\n",
        "\n",
        "    # Declare the constructor for this class\n",
        "    def __init__(self, Dr_hash, Patient_hash, Dr_public_key, prescription, nonce, signature, txid):\n",
        "\n",
        "        # Initialize the EMR instance with doctor's and patient's hashes, doctor's public key,\n",
        "        # prescription details, nonce, digital signature, and transaction ID\n",
        "        self.Dr_hash = Dr_hash\n",
        "        self.Patient_hash = Patient_hash\n",
        "        self.Dr_public_key = Dr_public_key\n",
        "        self.prescription = prescription\n",
        "        self.nonce = nonce\n",
        "        self.signature = signature\n",
        "        self.txid = txid\n",
        "\n",
        "    # Declare function to perform several checks to verify the integrity and authenticity of the EMR data\n",
        "    def verify(self, Dr_previous_nonce):\n",
        "\n",
        "        # Check the length of doctor's and patient's hashes\n",
        "        if len(self.Dr_hash) != 20 or len(self.Patient_hash) != 20:\n",
        "            raise Exception(\"Hash is wrong length\")\n",
        "\n",
        "        # Validate the doctor's public key by comparing its hash against the provided doctor's hash\n",
        "        if calculate_sha1_hash(self.Dr_public_key) != self.Dr_hash:\n",
        "            raise Exception(\"Invalid doctor public key\")\n",
        "\n",
        "        # Ensure the prescription text is valid and within the allowed byte size\n",
        "        if not isinstance(self.prescription, str) or len(self.prescription.encode('utf-8')) > 200:\n",
        "            raise Exception(\"Invalid prescription\")\n",
        "\n",
        "        # Check if the nonce is sequentially correct\n",
        "        if self.nonce != Dr_previous_nonce + 1:\n",
        "            raise Exception(\"Invalid nonce\")\n",
        "\n",
        "        # Validate the transaction ID by recalculating it and comparing with the provided value\n",
        "        expected_txid = calculate_txid(self.Dr_hash, self.Patient_hash, self.Dr_public_key, self.prescription, self.nonce, self.signature)\n",
        "        if self.txid != expected_txid:\n",
        "            raise Exception(\"Invalid txid\")\n",
        "\n",
        "        # Verify the digital signature to ensure the data's integrity and authenticity\n",
        "        signature_hash = calculate_signature_hash(self.Patient_hash, self.prescription, self.nonce)\n",
        "        key = load_der_public_key(self.Dr_public_key)\n",
        "        try:\n",
        "            key.verify(self.signature, signature_hash, ec.ECDSA(utils.Prehashed(hashes.SHA256())))\n",
        "        except:\n",
        "            raise Exception(\"Invalid signature\")\n"
      ],
      "metadata": {
        "id": "ERLxjkpnf88B"
      },
      "execution_count": 20,
      "outputs": []
    },
    {
      "cell_type": "markdown",
      "source": [
        "### Supporting Functions"
      ],
      "metadata": {
        "id": "5iPDpwfLgXq2"
      }
    },
    {
      "cell_type": "markdown",
      "source": [
        "> This function calculate_sha1_hash computes the SHA-1 hash of the provided data. SHA-1 generates a 160-bit (20-byte) hash, which is part of various security protocols and systems."
      ],
      "metadata": {
        "id": "Y-fVcCqUg7aF"
      }
    },
    {
      "cell_type": "code",
      "source": [
        "def calculate_sha1_hash(data):\n",
        "    digest = hashes.Hash(hashes.SHA1())\n",
        "    digest.update(data)\n",
        "    return digest.finalize()\n"
      ],
      "metadata": {
        "id": "PvPW4jXZgYfZ"
      },
      "execution_count": 21,
      "outputs": []
    },
    {
      "cell_type": "markdown",
      "source": [
        "> This function calculate_txid generates a transaction ID using SHA-256 by hashing together the doctor's hash, patient's hash, doctor's public key, prescription details, nonce, and digital signature."
      ],
      "metadata": {
        "id": "BoCFrwyGhm_U"
      }
    },
    {
      "cell_type": "code",
      "source": [
        "def calculate_txid(Dr_hash, Patient_hash, Dr_public_key, prescription, nonce, signature):\n",
        "    digest = hashes.Hash(hashes.SHA256())\n",
        "    digest.update(Dr_hash)\n",
        "    digest.update(Patient_hash)\n",
        "    digest.update(Dr_public_key)\n",
        "    digest.update(prescription.encode('utf-8'))\n",
        "    digest.update(nonce.to_bytes(8, byteorder='little', signed=False))\n",
        "    digest.update(signature)\n",
        "    return digest.finalize()\n"
      ],
      "metadata": {
        "id": "Dsmt99z5hzHF"
      },
      "execution_count": 22,
      "outputs": []
    },
    {
      "cell_type": "markdown",
      "source": [
        "> This function calculate_signature_hash produces a hash used for signature verification, combining the patient's hash, prescription, and nonce using SHA-256."
      ],
      "metadata": {
        "id": "pW9SmechiPI1"
      }
    },
    {
      "cell_type": "code",
      "source": [
        "def calculate_signature_hash(Patient_hash, prescription, nonce):\n",
        "    digest = hashes.Hash(hashes.SHA256())\n",
        "    digest.update(Patient_hash)\n",
        "    digest.update(prescription.encode('utf-8'))\n",
        "    digest.update(nonce.to_bytes(8, byteorder='little', signed=False))\n",
        "    return digest.finalize()\n"
      ],
      "metadata": {
        "id": "6_oS3MmPiWAi"
      },
      "execution_count": 23,
      "outputs": []
    },
    {
      "cell_type": "markdown",
      "source": [
        "These components together form a secure system for managing and verifying electronic medical records, ensuring that they are authentic, have not been tampered with, and come from a verified source. The verification process involves checking the integrity of the provided information, such as hash lengths, the correctness of the nonce, the validity of the transaction ID, and the authenticity of the signature using an elliptic curve digital signature algorithm (ECDSA) with SHA-256 as the hash function."
      ],
      "metadata": {
        "id": "6jqgha8nisSw"
      }
    },
    {
      "cell_type": "markdown",
      "source": [
        "## Create Signed Record Function\n",
        "\n",
        "This function is designed to generate a signed EMR (Electronic Medical Record) record, leveraging the doctor's private key alongside the patient's public key hash, the prescription, and a nonce as inputs. It meticulously prepares the necessary data, computes the signature, and assembles the record. The process includes calculating the transaction ID (txid) and the signature for the new record, ensuring the integrity and authenticity of the medical record through these cryptographic measures."
      ],
      "metadata": {
        "id": "z83PH1DHX5P9"
      }
    },
    {
      "cell_type": "code",
      "source": [
        "def create_signed_record(Dr_private_key, patient_hash, prescription, nonce):\n",
        "\n",
        "    # Convert the doctor's public key to DER format\n",
        "    Dr_public_key = Dr_private_key.public_key().public_bytes(encoding=Encoding.DER, format=PublicFormat.SubjectPublicKeyInfo)\n",
        "\n",
        "    # Calculate the doctor's public key hash\n",
        "    Dr_hash = calculate_sha1_hash(Dr_public_key)\n",
        "\n",
        "    # Prepare the data for signing\n",
        "    signature_hash = calculate_signature_hash(patient_hash, prescription, nonce)\n",
        "\n",
        "    # Sign the data\n",
        "    signature = Dr_private_key.sign(signature_hash, ec.ECDSA(utils.Prehashed(hashes.SHA256())))\n",
        "\n",
        "    # Calculate the transaction ID\n",
        "    txid = calculate_txid(Dr_hash, patient_hash, Dr_public_key, prescription, nonce, signature)\n",
        "\n",
        "    # Create and return the EMR record\n",
        "    return EMR(Dr_hash, patient_hash, Dr_public_key, prescription, nonce, signature, txid)\n"
      ],
      "metadata": {
        "id": "iyw-zQiTYCGm"
      },
      "execution_count": 24,
      "outputs": []
    },
    {
      "cell_type": "markdown",
      "source": [
        "## Test Cases"
      ],
      "metadata": {
        "id": "32KkE-Xuciql"
      }
    },
    {
      "cell_type": "code",
      "source": [
        "# Import the unittest module for creating and running unit tests in Python\n",
        "import unittest\n"
      ],
      "metadata": {
        "id": "FEzjnre2cjcg"
      },
      "execution_count": 25,
      "outputs": []
    },
    {
      "cell_type": "markdown",
      "source": [
        "This code snippet defines a test suite for the EMR class that verifies the correct behaviour of the class and the function create_signed_record, focusing on the verification logic under various conditions, using Python's unit test framework adapted for execution in an environment that requires a different approach than running tests in a standard Python environment due to the interactive nature of notebooks."
      ],
      "metadata": {
        "id": "1x6xzlVKiQJI"
      }
    },
    {
      "cell_type": "code",
      "source": [
        "class TestEMR(unittest.TestCase):\n",
        "\n",
        "    # Define a setup method to initialize variables before each test case runs\n",
        "    def setUp(self):\n",
        "\n",
        "        # Generate a doctor's private key using the SECP256K1 elliptic curve\n",
        "        self.Dr_private_key = ec.generate_private_key(ec.SECP256K1())\n",
        "\n",
        "        # Calculate and store a SHA-1 hash of a simulated patient's public key\n",
        "        self.patient_hash = calculate_sha1_hash(b\"Patient's Public Key\")\n",
        "\n",
        "        # Define a sample prescription text for testing\n",
        "        self.prescription = \"Medication A: 10mg\"\n",
        "\n",
        "        # Initialize a nonce to 1, to be used in the creation of a test EMR record\n",
        "        self.nonce = 1\n",
        "\n",
        "    # Define a test case method for verifying a successfully signed record\n",
        "    def test_record_verification_success(self):\n",
        "\n",
        "        # Create a signed EMR record using the doctor's private key, patient hash, prescription data, and nonce\n",
        "        record = create_signed_record(self.Dr_private_key, self.patient_hash, self.prescription, self.nonce)\n",
        "\n",
        "        # Set the previous nonce value to 0, assuming this is the first transaction record\n",
        "        Dr_previous_nonce = 0\n",
        "\n",
        "        # Attempt to verify the record; set result to True if successful, False if an exception occurs\n",
        "        try:\n",
        "            record.verify(Dr_previous_nonce)\n",
        "            result = True\n",
        "        except Exception as e:\n",
        "            result = False\n",
        "\n",
        "        # Assert that the result is True, indicating the record verification was successful\n",
        "        self.assertTrue(result)\n",
        "\n",
        "    # Define a test case to verify that an altered transaction ID causes record verification to fail\n",
        "    def test_invalid_txid_raises_exception(self):\n",
        "\n",
        "        # Create a signed EMR record with valid parameters\n",
        "        record = create_signed_record(self.Dr_private_key, self.patient_hash, self.prescription, self.nonce)\n",
        "\n",
        "        # Manually set the record's transaction ID (txid) to an invalid value\n",
        "        record.txid = b\"Invalid TXID\"\n",
        "\n",
        "        # Use a context manager to assert that an exception is raised during record verification, indicating failure\n",
        "        with self.assertRaises(Exception):\n",
        "\n",
        "            record.verify(0)  # Attempt to verify the record with a modified txid, expecting it to raise an exception\n",
        "\n",
        "    # Define a test case to ensure that tampering with the signature causes record verification to fail\n",
        "    def test_invalid_signature_raises_exception(self):\n",
        "\n",
        "        # Create a new EMR record with a valid signature initially\n",
        "        record = create_signed_record(self.Dr_private_key, self.patient_hash, self.prescription, self.nonce)\n",
        "\n",
        "        # Manually change the record's signature to an invalid value to simulate tampering\n",
        "        record.signature = b\"Invalid Signature\"\n",
        "\n",
        "        # Use a context manager to assert that an exception is raised, indicating that the record's verification fails\n",
        "        with self.assertRaises(Exception):\n",
        "\n",
        "            record.verify(0)  # Attempt to verify the tampered record, expecting failure due to the invalid signature\n"
      ],
      "metadata": {
        "id": "wUOeyEXMiRGx"
      },
      "execution_count": 26,
      "outputs": []
    },
    {
      "cell_type": "code",
      "source": [
        "# Load all test cases from the TestEMR class into a test suite\n",
        "suite = unittest.TestLoader().loadTestsFromTestCase(TestEMR)\n"
      ],
      "metadata": {
        "id": "Gj9iUI1NmsMJ"
      },
      "execution_count": 27,
      "outputs": []
    },
    {
      "cell_type": "code",
      "source": [
        "# Execute the test suite with a higher verbosity level for detailed output\n",
        "unittest.TextTestRunner(verbosity=2).run(suite)\n"
      ],
      "metadata": {
        "colab": {
          "base_uri": "https://localhost:8080/"
        },
        "id": "cUHPl1zsnHpH",
        "outputId": "8250855b-3fce-44c8-9e27-561659b11561"
      },
      "execution_count": 28,
      "outputs": [
        {
          "output_type": "stream",
          "name": "stderr",
          "text": [
            "test_invalid_signature_raises_exception (__main__.TestEMR) ... ok\n",
            "test_invalid_txid_raises_exception (__main__.TestEMR) ... ok\n",
            "test_record_verification_success (__main__.TestEMR) ... ok\n",
            "\n",
            "----------------------------------------------------------------------\n",
            "Ran 3 tests in 0.025s\n",
            "\n",
            "OK\n"
          ]
        },
        {
          "output_type": "execute_result",
          "data": {
            "text/plain": [
              "<unittest.runner.TextTestResult run=3 errors=0 failures=0>"
            ]
          },
          "metadata": {},
          "execution_count": 28
        }
      ]
    }
  ]
}