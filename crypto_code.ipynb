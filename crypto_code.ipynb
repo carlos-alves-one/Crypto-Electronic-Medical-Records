{
  "nbformat": 4,
  "nbformat_minor": 0,
  "metadata": {
    "colab": {
      "provenance": [],
      "toc_visible": true,
      "authorship_tag": "ABX9TyPLS86HnVZQP03rK38qa+Fl",
      "include_colab_link": true
    },
    "kernelspec": {
      "name": "python3",
      "display_name": "Python 3"
    },
    "language_info": {
      "name": "python"
    }
  },
  "cells": [
    {
      "cell_type": "markdown",
      "metadata": {
        "id": "view-in-github",
        "colab_type": "text"
      },
      "source": [
        "<a href=\"https://colab.research.google.com/github/carlos-alves-one/-Crypto-Electronic-Medical-Records/blob/main/crypto_code.ipynb\" target=\"_parent\"><img src=\"https://colab.research.google.com/assets/colab-badge.svg\" alt=\"Open In Colab\"/></a>"
      ]
    },
    {
      "cell_type": "markdown",
      "source": [
        "## Import Cryptography Libraries"
      ],
      "metadata": {
        "id": "ItzXMJXkeSHW"
      }
    },
    {
      "cell_type": "code",
      "source": [
        "# Import the 'hashes' module from the cryptography library's hazmat primitives, used for cryptographic hashing\n",
        "from cryptography.hazmat.primitives import hashes\n",
        "\n",
        "# Import 'Encoding', 'PublicFormat', and 'load_der_public_key' from the serialization module for encoding formats,\n",
        "# public key formats, and loading DER-encoded public keys, respectively\n",
        "from cryptography.hazmat.primitives.serialization import Encoding, PublicFormat, load_der_public_key\n",
        "\n",
        "# Import the 'ec' (Elliptic Curve cryptography) and 'utils' modules from the asymmetric part of the hazmat primitives\n",
        "# for performing operations with elliptic curves and various utility functions\n",
        "from cryptography.hazmat.primitives.asymmetric import ec, utils\n"
      ],
      "metadata": {
        "id": "bkybeamPeUUe"
      },
      "execution_count": null,
      "outputs": []
    },
    {
      "cell_type": "code",
      "execution_count": 1,
      "metadata": {
        "id": "0voHnfmhd2U-"
      },
      "outputs": [],
      "source": [
        "class EMR:\n",
        "    def __init__(self, Dr_hash, Patient_hash, Dr_public_key, prescription, nonce, signature, txid):\n",
        "        self.Dr_hash = Dr_hash\n",
        "        self.Patient_hash = Patient_hash\n",
        "        self.Dr_public_key = Dr_public_key\n",
        "        self.prescription = prescription\n",
        "        self.nonce = nonce\n",
        "        self.signature = signature\n",
        "        self.txid = txid\n",
        "\n",
        "    def verify(self, Dr_previous_nonce):\n",
        "        # Check the length of hashes\n",
        "        if len(self.Dr_hash) != 20 or len(self.Patient_hash) != 20:\n",
        "            raise Exception(\"Hash is wrong length\")\n",
        "\n",
        "        # Check the hash of the doctor's public key\n",
        "        if calculate_sha1_hash(self.Dr_public_key) != self.Dr_hash:\n",
        "            raise Exception(\"Invalid doctor public key\")\n",
        "\n",
        "        # Check the length of the prescription\n",
        "        if not isinstance(self.prescription, str) or len(self.prescription.encode('utf-8')) > 200:\n",
        "            raise Exception(\"Invalid prescription\")\n",
        "\n",
        "        # Check the nonce\n",
        "        if self.nonce != Dr_previous_nonce + 1:\n",
        "            raise Exception(\"Invalid nonce\")\n",
        "\n",
        "        # Check the txid\n",
        "        expected_txid = calculate_txid(self.Dr_hash, self.Patient_hash, self.Dr_public_key, self.prescription, self.nonce, self.signature)\n",
        "        if self.txid != expected_txid:\n",
        "            raise Exception(\"Invalid txid\")\n",
        "\n",
        "        # Verify the signature\n",
        "        signature_hash = calculate_signature_hash(self.Patient_hash, self.prescription, self.nonce)\n",
        "        key = load_der_public_key(self.Dr_public_key)\n",
        "        try:\n",
        "            key.verify(self.signature, signature_hash, ec.ECDSA(utils.Prehashed(hashes.SHA256())))\n",
        "        except:\n",
        "            raise Exception(\"Invalid signature\")\n",
        "\n",
        "def calculate_sha1_hash(data):\n",
        "    digest = hashes.Hash(hashes.SHA1())\n",
        "    digest.update(data)\n",
        "    return digest.finalize()\n",
        "\n",
        "def calculate_txid(Dr_hash, Patient_hash, Dr_public_key, prescription, nonce, signature):\n",
        "    digest = hashes.Hash(hashes.SHA256())\n",
        "    digest.update(Dr_hash)\n",
        "    digest.update(Patient_hash)\n",
        "    digest.update(Dr_public_key)\n",
        "    digest.update(prescription.encode('utf-8'))\n",
        "    digest.update(nonce.to_bytes(8, byteorder='little', signed=False))\n",
        "    digest.update(signature)\n",
        "    return digest.finalize()\n",
        "\n",
        "def calculate_signature_hash(Patient_hash, prescription, nonce):\n",
        "    digest = hashes.Hash(hashes.SHA256())\n",
        "    digest.update(Patient_hash)\n",
        "    digest.update(prescription.encode('utf-8'))\n",
        "    digest.update(nonce.to_bytes(8, byteorder='little', signed=False))\n",
        "    return digest.finalize()\n"
      ]
    }
  ]
}